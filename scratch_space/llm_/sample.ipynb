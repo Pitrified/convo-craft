{
 "cells": [
  {
   "cell_type": "markdown",
   "metadata": {},
   "source": [
    "# Prompt template sample\n"
   ]
  },
  {
   "cell_type": "code",
   "execution_count": 1,
   "metadata": {},
   "outputs": [],
   "source": [
    "%load_ext autoreload\n",
    "%autoreload 2"
   ]
  },
  {
   "cell_type": "code",
   "execution_count": 2,
   "metadata": {},
   "outputs": [],
   "source": [
    "from langchain_core.messages import AIMessage, HumanMessage, SystemMessage\n",
    "from langchain_core.prompts import (\n",
    "    ChatMessagePromptTemplate,\n",
    "    ChatPromptTemplate,\n",
    "    HumanMessagePromptTemplate,\n",
    "    StringPromptTemplate,\n",
    "    SystemMessagePromptTemplate,\n",
    ")\n",
    "from langchain_openai import ChatOpenAI\n",
    "from openai import OpenAI\n",
    "from pydantic import BaseModel, Field"
   ]
  },
  {
   "cell_type": "code",
   "execution_count": null,
   "metadata": {},
   "outputs": [],
   "source": [
    "hmpt = HumanMessagePromptTemplate.from_template(\"hello {input}\")\n",
    "hmpt.format(input=\"world\")"
   ]
  },
  {
   "cell_type": "code",
   "execution_count": null,
   "metadata": {},
   "outputs": [],
   "source": [
    "cpt = ChatPromptTemplate.from_template(\"hello {input}\")\n",
    "cpt.format(input=\"world\")"
   ]
  },
  {
   "cell_type": "code",
   "execution_count": null,
   "metadata": {},
   "outputs": [],
   "source": [
    "cpt2 = ChatPromptTemplate.from_messages([hmpt])\n",
    "# cpt2.format(input=\"world\")\n",
    "cpt2.invoke({\"input\": \"world\"})"
   ]
  },
  {
   "cell_type": "code",
   "execution_count": null,
   "metadata": {},
   "outputs": [],
   "source": [
    "cpt3 = ChatPromptTemplate([hmpt])\n",
    "cpt3.invoke({\"input\": \"world\"})"
   ]
  },
  {
   "cell_type": "code",
   "execution_count": null,
   "metadata": {},
   "outputs": [],
   "source": [
    "# (\"system\", \"You are a helpful AI bot. Your name is {name}.\"),\n",
    "# (\"human\", \"Hello, how are you doing?\"),\n",
    "# (\"ai\", \"I'm doing well, thanks!\"),\n",
    "# (\"human\", \"{user_input}\"),\n",
    "\n",
    "cpt4 = ChatPromptTemplate(\n",
    "    [\n",
    "        SystemMessagePromptTemplate.from_template(\n",
    "            \"You are a helpful AI bot. Your name is {name}.\"\n",
    "        ),\n",
    "        HumanMessage(\"Hello, how are you doing?\"),\n",
    "        AIMessage(\"I'm doing well, thanks!\"),\n",
    "        HumanMessagePromptTemplate.from_template(\"{user_input}\"),\n",
    "    ]\n",
    ")\n",
    "cpv4 = cpt4.invoke({\"name\": \"Bob\", \"user_input\": \"I'm doing well, thanks!\"})\n",
    "for message in cpv4.to_messages():\n",
    "    print(f\"{type(message)}: {message.content}\")"
   ]
  }
 ],
 "metadata": {
  "kernelspec": {
   "display_name": "convo-craft-5cDUP2Ok-py3.11",
   "language": "python",
   "name": "python3"
  },
  "language_info": {
   "codemirror_mode": {
    "name": "ipython",
    "version": 3
   },
   "file_extension": ".py",
   "mimetype": "text/x-python",
   "name": "python",
   "nbconvert_exporter": "python",
   "pygments_lexer": "ipython3",
   "version": "3.11.10"
  }
 },
 "nbformat": 4,
 "nbformat_minor": 2
}
